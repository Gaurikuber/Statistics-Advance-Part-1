{
  "nbformat": 4,
  "nbformat_minor": 0,
  "metadata": {
    "colab": {
      "provenance": []
    },
    "kernelspec": {
      "name": "python3",
      "display_name": "Python 3"
    },
    "language_info": {
      "name": "python"
    }
  },
  "cells": [
    {
      "cell_type": "markdown",
      "source": [
        "1. What is a random variable in probability theory?\n",
        "-  In probability theory, a random variable is a variable whose value is a numerical outcome of a random phenomenon"
      ],
      "metadata": {
        "id": "A_tutaLF1IZc"
      }
    },
    {
      "cell_type": "markdown",
      "source": [
        "2. What are the types of random variables?\n",
        "-  1.Discrete Random Variable\n",
        "   2.Continuous Random Variable"
      ],
      "metadata": {
        "id": "SCFH3Nzy2Qzq"
      }
    },
    {
      "cell_type": "markdown",
      "source": [
        "3. What is the difference between discrete and continuous distributions?\n",
        "-  for discrete distributions, you can list all possible outcomes and their probabilities, while for continuous distributions, you work with probability densities over intervals."
      ],
      "metadata": {
        "id": "o9ujPnDX2XH4"
      }
    },
    {
      "cell_type": "markdown",
      "source": [
        "4. What are probability distribution functions (PDF)?\n",
        "-  A Probability Distribution Function (PDF) is a function used to describe the likelihood of a continuous random variable taking on a given value.\n"
      ],
      "metadata": {
        "id": "d6wMyijc4ady"
      }
    },
    {
      "cell_type": "markdown",
      "source": [
        "  5.How do cumulative distribution functions (CDF) differ from probability distribution functions (PDF)?\n",
        "  -  PDF/PMF: Tells you the probability or probability density at a specific point.\n",
        "\n",
        "  CDF: Tells you the cumulative probability up to a specific point. It shows the probability that the random variable will take a value less than or equal to x.\n"
      ],
      "metadata": {
        "id": "E4hHiGM-4apf"
      }
    },
    {
      "cell_type": "markdown",
      "source": [
        "6. What is a discrete uniform distribution?\n",
        "-  A discrete uniform distribution is a probability distribution where a finite number of outcomes are equally likely to happen. In other words, each possible value of the random variable has the same probability of occurring.\n"
      ],
      "metadata": {
        "id": "Thzbk2364a1t"
      }
    },
    {
      "cell_type": "markdown",
      "source": [
        "7.  What are the key properties of a Bernoulli distribution?\n",
        "-  Single Trial\n",
        "   Two Possible Outcomes\n",
        "   Fixed Probability of Success\n",
        "   Fixed Probability of Failure\n",
        "   Random Variable\n"
      ],
      "metadata": {
        "id": "gvf5X9AG4v1M"
      }
    },
    {
      "cell_type": "markdown",
      "source": [
        "8. What is the binomial distribution, and how is it used in probability?\n",
        "-  The binomial distribution is a discrete probability distribution that describes the number of successes in a fixed number of independent Bernoulli trials, each with the same probability of success.\n",
        "\n",
        "  Used :\n",
        "\n",
        "   The binomial distribution is used to calculate the probability of obtaining a specific number of successes (k) in a fixed number of trials (n)"
      ],
      "metadata": {
        "id": "CXZRjTjq58Bh"
      }
    },
    {
      "cell_type": "markdown",
      "source": [
        "9. What is the Poisson distribution and where is it applied?\n",
        "-  The Poisson distribution is a discrete probability distribution that expresses the probability of a given number of events occurring in a fixed interval of time or space, or in a given area of opportunity, if these events occur with a known constant mean rate and independently of the time since the last event.\n",
        "\n",
        "   Applied:\n",
        "\n",
        "   Counting the number of calls arriving at a call center per hour.\n",
        "   \n",
        "   Modeling the number of accidents at a specific intersection per month."
      ],
      "metadata": {
        "id": "CC7h7lgR6S0m"
      }
    },
    {
      "cell_type": "markdown",
      "source": [
        "10. What is a continuous uniform distribution?\n",
        "-  A continuous uniform distribution is a probability distribution where all values within a given interval are equally likely to occur. It's the continuous counterpart to the discrete uniform distribution."
      ],
      "metadata": {
        "id": "GYSoFGzM6vAI"
      }
    },
    {
      "cell_type": "markdown",
      "source": [
        "11. What are the characteristics of a normal distribution?\n",
        "-  Symmetric Bell Shape\n",
        "\n",
        "   Mean, Median, and Mode are Equal\n",
        "\n",
        "   Asymptotic to the X-axis\n",
        "\n",
        "   Defined by Mean and Standard Deviation\n",
        "\n",
        "   Total Area Under the Curve is 1\n",
        "\n",
        "   Empirical Rule (68-95-99.7 Rule)"
      ],
      "metadata": {
        "id": "CEh2zF2g60Zo"
      }
    },
    {
      "cell_type": "markdown",
      "source": [
        "12. What is the standard normal distribution, and why is it important?\n",
        "-  The standard normal distribution is a special case of the normal distribution. It has a mean (μ) of 0 and a standard deviation (σ) of 1.\n",
        "\n",
        "  important:\n",
        "\n",
        "   Standardization\n",
        "\n",
        "   Probability Calculation\n",
        "\n",
        "   Comparison\n",
        "\n",
        "   Foundation for Statistical Inference"
      ],
      "metadata": {
        "id": "qDyNrrj17XzF"
      }
    },
    {
      "cell_type": "markdown",
      "source": [
        "13. What is the Central Limit Theorem (CLT), and why is it critical in statistics?\n",
        "-  The Central Limit Theorem (CLT) is a fundamental theorem in statistics that states that, under certain conditions, the sampling distribution of the mean of a large number of independent, identically distributed random variables will be approximately normally distribution.\n",
        "\n",
        "  critical:\n",
        "\n",
        "  Foundation for Statistical Inference\n",
        "\n",
        "  Simplification of Analysis\n",
        "\n",
        "  Understanding Sampling Distributions\n",
        "\n",
        "  Justification for Using Normal Distribution Tests\n",
        "\n"
      ],
      "metadata": {
        "id": "-X_--YL97cEd"
      }
    },
    {
      "cell_type": "markdown",
      "source": [
        "14. How does the Central Limit Theorem relate to the normal distribution?\n",
        "- The Central Limit Theorem (CLT) is fundamentally related to the normal distribution because it states that, under certain conditions, the sampling distribution of the sample mean will approximate a normal distribution, regardless of the shape of the original population distribution, as the sample size increases."
      ],
      "metadata": {
        "id": "COMZyrqj8N_j"
      }
    },
    {
      "cell_type": "markdown",
      "source": [
        "15. What is the application of Z statistics in hypothesis testing?\n",
        "-  Z-statistics standardize sample results to a common scale (the standard normal distribution), allowing us to determine how likely our observed result is if the null hypothesis were true. This enables us to make informed decisions about whether to reject the null hypothesis and conclude that there is a statistically significant effect or difference."
      ],
      "metadata": {
        "id": "rFT-cAyp8mUx"
      }
    },
    {
      "cell_type": "markdown",
      "source": [
        "16. How do you calculate a Z-score, and what does it represent?\n",
        "-  The formula for calculating a Z-score for a single data point (x) from a distribution with a mean (μ) and standard deviation (σ) is:\n",
        "\n",
        "  Z = (x - μ) / σ\n",
        "\n",
        "   Represent :\n",
        "  \n",
        "\n",
        "   Distance from the Mean in Standard Deviations\n",
        "\n",
        "   Direction from the Mean\n",
        "\n",
        "   Relative Position"
      ],
      "metadata": {
        "id": "M0lzflfm8rbD"
      }
    },
    {
      "cell_type": "markdown",
      "source": [
        "17. What are point estimates and interval estimates in statistics?\n",
        "-  Point Estimate:\n",
        "\n",
        "  A point estimate is a single value that is used to estimate an unknown population parameter.\n",
        "\n",
        "-  Interval Estimate (Confidence Interval):\n",
        "\n",
        "  An interval estimate, often called a confidence interval, is a range of values within which the unknown population parameter is likely to lie."
      ],
      "metadata": {
        "id": "r6AUdNWh9sd3"
      }
    },
    {
      "cell_type": "markdown",
      "source": [
        "18. What is the significance of confidence intervals in statistical analysis?\n",
        "-  confidence intervals are crucial because they move beyond single-point estimates to provide a range of plausible values for population parameters, quantify the uncertainty of estimates, aid in decision making, and are closely linked to the process of hypothesis testing. They offer a more complete picture of what the sample data tells us about the underlying population.\n",
        "\n"
      ],
      "metadata": {
        "id": "X4DK_YMK9y0p"
      }
    },
    {
      "cell_type": "markdown",
      "source": [
        "19. What is the relationship between a Z-score and a confidence interval?\n",
        "-  There's a strong relationship between Z-scores and confidence intervals, particularly when constructing confidence intervals for a population mean when the population standard deviation is known (which is the scenario where Z-tests are typically used)."
      ],
      "metadata": {
        "id": "6-X_ldgm-QjU"
      }
    },
    {
      "cell_type": "markdown",
      "source": [
        "20. How are Z-scores used to compare different distributions?\n",
        "-  Z-scores are a powerful tool for comparing values from different distributions, even if those distributions have different means and standard deviations. This is because Z-scores standardize the values to a common scale – the standard normal distribution (with a mean of 0 and a standard deviation of 1)."
      ],
      "metadata": {
        "id": "nAgDP8c3-b8d"
      }
    },
    {
      "cell_type": "markdown",
      "source": [
        "21. What are the assumptions for applying the Central Limit Theorem?\n",
        "-  The Central Limit Theorem (CLT) is a powerful tool, but its application relies on certain assumptions about the random variables being sampled.\n",
        "\n",
        "Standardization\n",
        "\n",
        "Comparing Relative Position\n"
      ],
      "metadata": {
        "id": "ZHse9doh-vCh"
      }
    },
    {
      "cell_type": "markdown",
      "source": [
        "22. What is the concept of expected value in a probability distribution?\n",
        "-  The expected value (or expectation or mean) of a random variable is a fundamental concept in probability theory. It represents the average value that the random variable is expected to take over many repetitions of the random phenomenon."
      ],
      "metadata": {
        "id": "xNvc1POf_Am4"
      }
    },
    {
      "cell_type": "markdown",
      "source": [
        "23. How does a probability distribution relate to the expected outcome of a random variable?\n",
        "\n",
        "-  A probability distribution is the complete description of all possible values a random variable can take and the probability (or probability density) associated with each of those values. The expected outcome (or expected value) is a single number that summarizes this distribution by representing the long-run average of the random variable."
      ],
      "metadata": {
        "id": "qY97SChL_IcP"
      }
    }
  ]
}